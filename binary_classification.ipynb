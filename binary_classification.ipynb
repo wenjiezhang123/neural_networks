{
 "cells": [
  {
   "cell_type": "code",
   "execution_count": 24,
   "metadata": {},
   "outputs": [],
   "source": [
    "from keras.datasets import imdb\n",
    "(train_data, train_labels), (test_data, test_labels) = imdb.load_data(num_words = 10000)"
   ]
  },
  {
   "cell_type": "code",
   "execution_count": 25,
   "metadata": {},
   "outputs": [],
   "source": [
    "# one-hot encode train_data and test_data\n",
    "import numpy as np\n",
    "def vectorize_sequences(sequences, dimension=10000):\n",
    "    results = np.zeros((len(sequences), dimension))\n",
    "    for i, sequence in enumerate(sequences):\n",
    "        results[i, sequence] = 1.\n",
    "    return results\n",
    "\n",
    "x_train = vectorize_sequences(train_data)\n",
    "x_test = vectorize_sequences(test_data)\n",
    "\n",
    "# turn train_labels and test_labels from lists into arrays\n",
    "y_train = np.asarray(train_labels).astype('float32')\n",
    "y_test = np.asarray(test_labels).astype('float32')"
   ]
  },
  {
   "cell_type": "code",
   "execution_count": 26,
   "metadata": {},
   "outputs": [],
   "source": [
    "# build neural network model\n",
    "from keras import models\n",
    "from keras import layers\n",
    "model = models.Sequential()\n",
    "model.add(layers.Dense(16, activation='relu', input_shape=(10000,)))\n",
    "model.add(layers.Dense(16, activation='relu'))\n",
    "model.add(layers.Dense(1, activation='sigmoid'))\n"
   ]
  },
  {
   "cell_type": "code",
   "execution_count": 33,
   "metadata": {},
   "outputs": [],
   "source": [
    "# choose loss function, optimizer nad target metrics\n",
    "model.compile(optimizer='rmsprop', loss='binary_crossentropy', metrics=['accuracy'])"
   ]
  },
  {
   "cell_type": "code",
   "execution_count": 34,
   "metadata": {},
   "outputs": [
    {
     "name": "stdout",
     "output_type": "stream",
     "text": [
      "Epoch 1/4\n",
      "25000/25000 [==============================] - 2s 68us/step - loss: 0.0793 - acc: 0.9744\n",
      "Epoch 2/4\n",
      "25000/25000 [==============================] - 1s 41us/step - loss: 0.0582 - acc: 0.9823\n",
      "Epoch 3/4\n",
      "25000/25000 [==============================] - 1s 41us/step - loss: 0.0454 - acc: 0.9872\n",
      "Epoch 4/4\n",
      "25000/25000 [==============================] - 1s 41us/step - loss: 0.0371 - acc: 0.9899\n",
      "25000/25000 [==============================] - 1s 40us/step\n",
      "loss: 0.6924516911029815\n",
      "accuracy: 0.85536\n",
      "[[0.00477477]\n",
      " [1.        ]\n",
      " [0.9998903 ]\n",
      " ...\n",
      " [0.21661848]\n",
      " [0.05868913]\n",
      " [0.9723818 ]]\n"
     ]
    }
   ],
   "source": [
    "# without validation set partition\n",
    "model.fit(x_train, y_train, epochs=4, batch_size=512)\n",
    "loss, acc = model.evaluate(x_test,y_test)\n",
    "\n",
    "print('loss:', loss)\n",
    "print('accuracy:', acc)\n",
    "\n",
    "print(model.predict(x_test))\n"
   ]
  },
  {
   "cell_type": "code",
   "execution_count": 28,
   "metadata": {},
   "outputs": [
    {
     "name": "stdout",
     "output_type": "stream",
     "text": [
      "Train on 15000 samples, validate on 10000 samples\n",
      "Epoch 1/20\n",
      "15000/15000 [==============================] - 2s 133us/step - loss: 0.5084 - acc: 0.7814 - val_loss: 0.3798 - val_acc: 0.8683\n",
      "Epoch 2/20\n",
      "15000/15000 [==============================] - 1s 61us/step - loss: 0.3004 - acc: 0.9040 - val_loss: 0.3002 - val_acc: 0.8896\n",
      "Epoch 3/20\n",
      "15000/15000 [==============================] - 1s 61us/step - loss: 0.2179 - acc: 0.9287 - val_loss: 0.3079 - val_acc: 0.8718\n",
      "Epoch 4/20\n",
      "15000/15000 [==============================] - 1s 61us/step - loss: 0.1750 - acc: 0.9436 - val_loss: 0.2839 - val_acc: 0.8833\n",
      "Epoch 5/20\n",
      "15000/15000 [==============================] - 1s 62us/step - loss: 0.1426 - acc: 0.9545 - val_loss: 0.2843 - val_acc: 0.8873\n",
      "Epoch 6/20\n",
      "15000/15000 [==============================] - 1s 62us/step - loss: 0.1150 - acc: 0.9652 - val_loss: 0.3156 - val_acc: 0.8772\n",
      "Epoch 7/20\n",
      "15000/15000 [==============================] - 1s 62us/step - loss: 0.0979 - acc: 0.9707 - val_loss: 0.3127 - val_acc: 0.8846\n",
      "Epoch 8/20\n",
      "15000/15000 [==============================] - 1s 62us/step - loss: 0.0807 - acc: 0.9765 - val_loss: 0.3857 - val_acc: 0.8654\n",
      "Epoch 9/20\n",
      "15000/15000 [==============================] - 1s 62us/step - loss: 0.0660 - acc: 0.9819 - val_loss: 0.3637 - val_acc: 0.8782\n",
      "Epoch 10/20\n",
      "15000/15000 [==============================] - 1s 62us/step - loss: 0.0558 - acc: 0.9852 - val_loss: 0.3843 - val_acc: 0.8793\n",
      "Epoch 11/20\n",
      "15000/15000 [==============================] - 1s 62us/step - loss: 0.0445 - acc: 0.9891 - val_loss: 0.4158 - val_acc: 0.8772\n",
      "Epoch 12/20\n",
      "15000/15000 [==============================] - 1s 61us/step - loss: 0.0383 - acc: 0.9915 - val_loss: 0.4511 - val_acc: 0.8695\n",
      "Epoch 13/20\n",
      "15000/15000 [==============================] - 1s 62us/step - loss: 0.0298 - acc: 0.9931 - val_loss: 0.4704 - val_acc: 0.8727\n",
      "Epoch 14/20\n",
      "15000/15000 [==============================] - 1s 62us/step - loss: 0.0245 - acc: 0.9947 - val_loss: 0.5038 - val_acc: 0.8720\n",
      "Epoch 15/20\n",
      "15000/15000 [==============================] - 1s 62us/step - loss: 0.0170 - acc: 0.9983 - val_loss: 0.5614 - val_acc: 0.8663\n",
      "Epoch 16/20\n",
      "15000/15000 [==============================] - 1s 63us/step - loss: 0.0135 - acc: 0.9984 - val_loss: 0.5805 - val_acc: 0.8701\n",
      "Epoch 17/20\n",
      "15000/15000 [==============================] - 1s 62us/step - loss: 0.0146 - acc: 0.9972 - val_loss: 0.6177 - val_acc: 0.8695\n",
      "Epoch 18/20\n",
      "15000/15000 [==============================] - 1s 62us/step - loss: 0.0084 - acc: 0.9989 - val_loss: 0.6949 - val_acc: 0.8622\n",
      "Epoch 19/20\n",
      "15000/15000 [==============================] - 1s 62us/step - loss: 0.0054 - acc: 0.9998 - val_loss: 0.7002 - val_acc: 0.8627\n",
      "Epoch 20/20\n",
      "15000/15000 [==============================] - 1s 62us/step - loss: 0.0074 - acc: 0.9987 - val_loss: 0.7091 - val_acc: 0.8653\n",
      "dict_keys(['val_loss', 'val_acc', 'loss', 'acc'])\n"
     ]
    }
   ],
   "source": [
    "# partion training set into \"training set\" and \"validation set\"\n",
    "x_val = x_train[:10000]\n",
    "partial_x_train = x_train[10000:]\n",
    "y_val = y_train[:10000]\n",
    "partial_y_train = y_train[10000:]\n",
    "history = model.fit(partial_x_train, partial_y_train, epochs=20, batch_size=512, validation_data=(x_val, y_val))\n",
    "history_dict = history.history\n",
    "print(history_dict.keys())"
   ]
  },
  {
   "cell_type": "code",
   "execution_count": 29,
   "metadata": {},
   "outputs": [
    {
     "name": "stdout",
     "output_type": "stream",
     "text": [
      "25000/25000 [==============================] - 1s 56us/step\n",
      "loss: 0.7846774481701851\n",
      "accuracy: 0.8484\n"
     ]
    }
   ],
   "source": [
    "loss, acc = model.evaluate(x_test,y_test)\n",
    "print('loss:', loss)\n",
    "print('accuracy:', acc)\n",
    "\n"
   ]
  },
  {
   "cell_type": "code",
   "execution_count": null,
   "metadata": {},
   "outputs": [],
   "source": []
  }
 ],
 "metadata": {
  "kernelspec": {
   "display_name": "Python 3",
   "language": "python",
   "name": "python3"
  },
  "language_info": {
   "codemirror_mode": {
    "name": "ipython",
    "version": 3
   },
   "file_extension": ".py",
   "mimetype": "text/x-python",
   "name": "python",
   "nbconvert_exporter": "python",
   "pygments_lexer": "ipython3",
   "version": "3.6.8"
  }
 },
 "nbformat": 4,
 "nbformat_minor": 2
}
