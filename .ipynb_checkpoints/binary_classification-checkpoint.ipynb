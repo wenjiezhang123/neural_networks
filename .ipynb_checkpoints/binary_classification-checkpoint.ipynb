{
 "cells": [
  {
   "cell_type": "code",
   "execution_count": 1,
   "metadata": {},
   "outputs": [
    {
     "name": "stderr",
     "output_type": "stream",
     "text": [
      "Using TensorFlow backend.\n"
     ]
    }
   ],
   "source": [
    "from keras.datasets import imdb\n",
    "(train_data, train_labels), (test_data, test_labels) = imdb.load_data(num_words = 10000)"
   ]
  },
  {
   "cell_type": "code",
   "execution_count": 2,
   "metadata": {
    "scrolled": false
   },
   "outputs": [
    {
     "name": "stdout",
     "output_type": "stream",
     "text": [
      "[1, 14, 22, 16, 43, 530, 973, 1622, 1385, 65, 458, 4468, 66, 3941, 4, 173, 36, 256, 5, 25, 100, 43, 838, 112, 50, 670, 2, 9, 35, 480, 284, 5, 150, 4, 172, 112, 167, 2, 336, 385, 39, 4, 172, 4536, 1111, 17, 546, 38, 13, 447, 4, 192, 50, 16, 6, 147, 2025, 19, 14, 22, 4, 1920, 4613, 469, 4, 22, 71, 87, 12, 16, 43, 530, 38, 76, 15, 13, 1247, 4, 22, 17, 515, 17, 12, 16, 626, 18, 2, 5, 62, 386, 12, 8, 316, 8, 106, 5, 4, 2223, 5244, 16, 480, 66, 3785, 33, 4, 130, 12, 16, 38, 619, 5, 25, 124, 51, 36, 135, 48, 25, 1415, 33, 6, 22, 12, 215, 28, 77, 52, 5, 14, 407, 16, 82, 2, 8, 4, 107, 117, 5952, 15, 256, 4, 2, 7, 3766, 5, 723, 36, 71, 43, 530, 476, 26, 400, 317, 46, 7, 4, 2, 1029, 13, 104, 88, 4, 381, 15, 297, 98, 32, 2071, 56, 26, 141, 6, 194, 7486, 18, 4, 226, 22, 21, 134, 476, 26, 480, 5, 144, 30, 5535, 18, 51, 36, 28, 224, 92, 25, 104, 4, 226, 65, 16, 38, 1334, 88, 12, 16, 283, 5, 16, 4472, 113, 103, 32, 15, 16, 5345, 19, 178, 32]\n",
      "1\n",
      "9999\n"
     ]
    }
   ],
   "source": [
    "print(train_data[0])\n",
    "print(train_labels[0])\n",
    "print(max([max(sequence) for sequence in train_data]))"
   ]
  },
  {
   "cell_type": "code",
   "execution_count": 3,
   "metadata": {},
   "outputs": [],
   "source": [
    "# one-hot encode train_data and test_data\n",
    "import numpy as np\n",
    "def vectorize_sequences(sequences, dimension=10000):\n",
    "    results = np.zeros((len(sequences), dimension))\n",
    "    for i, sequence in enumerate(sequences):\n",
    "        results[i, sequence] = 1.\n",
    "    return results\n",
    "\n",
    "x_train = vectorize_sequences(train_data)\n",
    "x_test = vectorize_sequences(test_data)\n",
    "\n",
    "# turn train_labels and test_labels from lists into arrays\n",
    "y_train = np.asarray(train_labels).astype('float32')\n",
    "y_test = np.asarray(test_labels).astype('float32')"
   ]
  },
  {
   "cell_type": "code",
   "execution_count": 4,
   "metadata": {},
   "outputs": [],
   "source": [
    "# build neural network model\n",
    "from keras import models\n",
    "from keras import layers\n",
    "model = models.Sequential()\n",
    "model.add(layers.Dense(16, activation='relu', input_shape=(10000,)))\n",
    "model.add(layers.Dense(16, activation='relu'))\n",
    "model.add(layers.Dense(1, activation='sigmoid'))\n"
   ]
  },
  {
   "cell_type": "code",
   "execution_count": 5,
   "metadata": {},
   "outputs": [],
   "source": [
    "# choose loss function, optimizer and target metrics\n",
    "model.compile(optimizer='rmsprop', loss='binary_crossentropy', metrics=['accuracy'])"
   ]
  },
  {
   "cell_type": "code",
   "execution_count": 6,
   "metadata": {},
   "outputs": [
    {
     "name": "stdout",
     "output_type": "stream",
     "text": [
      "Train on 15000 samples, validate on 10000 samples\n",
      "Epoch 1/20\n",
      "15000/15000 [==============================] - 3s 176us/step - loss: 0.5061 - acc: 0.7857 - val_loss: 0.3787 - val_acc: 0.8688\n",
      "Epoch 2/20\n",
      "15000/15000 [==============================] - 1s 68us/step - loss: 0.2993 - acc: 0.9049 - val_loss: 0.2999 - val_acc: 0.8903\n",
      "Epoch 3/20\n",
      "15000/15000 [==============================] - 1s 66us/step - loss: 0.2172 - acc: 0.9283 - val_loss: 0.3086 - val_acc: 0.8711\n",
      "Epoch 4/20\n",
      "15000/15000 [==============================] - 1s 66us/step - loss: 0.1745 - acc: 0.9437 - val_loss: 0.2831 - val_acc: 0.8844\n",
      "Epoch 5/20\n",
      "15000/15000 [==============================] - 1s 66us/step - loss: 0.1421 - acc: 0.9546 - val_loss: 0.2858 - val_acc: 0.8860\n",
      "Epoch 6/20\n",
      "15000/15000 [==============================] - 1s 66us/step - loss: 0.1147 - acc: 0.9653 - val_loss: 0.3119 - val_acc: 0.8787\n",
      "Epoch 7/20\n",
      "15000/15000 [==============================] - 1s 68us/step - loss: 0.0974 - acc: 0.9713 - val_loss: 0.3133 - val_acc: 0.8843\n",
      "Epoch 8/20\n",
      "15000/15000 [==============================] - 1s 68us/step - loss: 0.0804 - acc: 0.9763 - val_loss: 0.3863 - val_acc: 0.8658\n",
      "Epoch 9/20\n",
      "15000/15000 [==============================] - 1s 66us/step - loss: 0.0658 - acc: 0.9821 - val_loss: 0.3641 - val_acc: 0.8777\n",
      "Epoch 10/20\n",
      "15000/15000 [==============================] - 1s 67us/step - loss: 0.0552 - acc: 0.9853 - val_loss: 0.3876 - val_acc: 0.8781\n",
      "Epoch 11/20\n",
      "15000/15000 [==============================] - 1s 68us/step - loss: 0.0427 - acc: 0.9902 - val_loss: 0.4169 - val_acc: 0.8779\n",
      "Epoch 12/20\n",
      "15000/15000 [==============================] - 1s 69us/step - loss: 0.0377 - acc: 0.9920 - val_loss: 0.4572 - val_acc: 0.8697\n",
      "Epoch 13/20\n",
      "15000/15000 [==============================] - 1s 69us/step - loss: 0.0296 - acc: 0.9937 - val_loss: 0.4727 - val_acc: 0.8740\n",
      "Epoch 14/20\n",
      "15000/15000 [==============================] - 1s 68us/step - loss: 0.0235 - acc: 0.9953 - val_loss: 0.5053 - val_acc: 0.8715\n",
      "Epoch 15/20\n",
      "15000/15000 [==============================] - 1s 65us/step - loss: 0.0180 - acc: 0.9974 - val_loss: 0.5342 - val_acc: 0.8697\n",
      "Epoch 16/20\n",
      "15000/15000 [==============================] - 1s 67us/step - loss: 0.0146 - acc: 0.9985 - val_loss: 0.5770 - val_acc: 0.8690\n",
      "Epoch 17/20\n",
      "15000/15000 [==============================] - 1s 68us/step - loss: 0.0154 - acc: 0.9969 - val_loss: 0.6053 - val_acc: 0.8690\n",
      "Epoch 18/20\n",
      "15000/15000 [==============================] - 1s 68us/step - loss: 0.0075 - acc: 0.9995 - val_loss: 0.6744 - val_acc: 0.8635\n",
      "Epoch 19/20\n",
      "15000/15000 [==============================] - 1s 68us/step - loss: 0.0112 - acc: 0.9978 - val_loss: 0.6690 - val_acc: 0.8677\n",
      "Epoch 20/20\n",
      "15000/15000 [==============================] - 1s 69us/step - loss: 0.0042 - acc: 0.9998 - val_loss: 0.6978 - val_acc: 0.8656\n",
      "dict_keys(['val_loss', 'val_acc', 'loss', 'acc'])\n"
     ]
    }
   ],
   "source": [
    "# partion training set into \"training set\" and \"validation set\"\n",
    "x_val = x_train[:10000]\n",
    "partial_x_train = x_train[10000:]\n",
    "y_val = y_train[:10000]\n",
    "partial_y_train = y_train[10000:]\n",
    "model.compile(optimizer='rmsprop',loss='binary_crossentropy',metrics=['acc'])\n",
    "history = model.fit(partial_x_train, partial_y_train, epochs=20, batch_size=512, validation_data=(x_val, y_val))\n",
    "history_dict = history.history\n",
    "print(history_dict.keys())"
   ]
  },
  {
   "cell_type": "code",
   "execution_count": 10,
   "metadata": {},
   "outputs": [
    {
     "data": {
      "image/png": "[encoded data removed]",
      "text/plain": [
       "<Figure size 432x288 with 1 Axes>"
      ]
     },
     "metadata": {
      "needs_background": "light"
     },
     "output_type": "display_data"
    }
   ],
   "source": [
    "import matplotlib.pyplot as plt\n",
    "# import os\n",
    "# os.environ['KMP_DUPLICATE_LIB_OK']='True'\n",
    "history_dict = history.history\n",
    "loss_values = history_dict['loss']\n",
    "val_loss_values = history_dict['val_loss']\n",
    "epochs = list(range(1, len(loss_values) + 1))\n",
    "plt.plot(epochs, loss_values, 'bo', label='Training loss')\n",
    "plt.plot(epochs, val_loss_values, 'b', label='Validation loss')\n",
    "plt.title('Training and validation loss')\n",
    "plt.xlabel('Epochs')\n",
    "plt.ylabel('Loss')\n",
    "plt.legend()\n",
    "\n",
    "plt.show()\n"
   ]
  },
  {
   "cell_type": "code",
   "execution_count": 12,
   "metadata": {},
   "outputs": [
    {
     "data": {
      "image/png": "[encoded data removed]",
      "text/plain": [
       "<Figure size 432x288 with 1 Axes>"
      ]
     },
     "metadata": {
      "needs_background": "light"
     },
     "output_type": "display_data"
    }
   ],
   "source": [
    "# plt.clf() # clear the figure\n",
    "acc_values = history_dict['acc'] \n",
    "val_acc_values = history_dict['val_acc']\n",
    "plt.plot(epochs, acc_values, 'bo', label='Training acc')\n",
    "plt.plot(epochs, val_acc_values, 'b', label='Validation acc')\n",
    "plt.title('Training and validation accuracy')\n",
    "plt.xlabel('Epochs')\n",
    "plt.ylabel('Loss')\n",
    "plt.legend()\n",
    "plt.show()\n"
   ]
  },
  {
   "cell_type": "code",
   "execution_count": 13,
   "metadata": {},
   "outputs": [
    {
     "name": "stdout",
     "output_type": "stream",
     "text": [
      "Epoch 1/4\n",
      "25000/25000 [==============================] - 2s 70us/step - loss: 0.4749 - acc: 0.8217\n",
      "Epoch 2/4\n",
      "25000/25000 [==============================] - 1s 44us/step - loss: 0.2666 - acc: 0.9096\n",
      "Epoch 3/4\n",
      "25000/25000 [==============================] - 1s 44us/step - loss: 0.1986 - acc: 0.9291\n",
      "Epoch 4/4\n",
      "25000/25000 [==============================] - 1s 45us/step - loss: 0.1678 - acc: 0.9400\n",
      "25000/25000 [==============================] - 1s 59us/step\n",
      "[0.32623681365966795, 0.87256]\n"
     ]
    }
   ],
   "source": [
    "# Retraining a model from scratch\n",
    "model = models.Sequential()\n",
    "model.add(layers.Dense(16, activation='relu', input_shape=(10000,)))\n",
    "model.add(layers.Dense(16, activation='relu'))\n",
    "model.add(layers.Dense(1, activation='sigmoid'))\n",
    "model.compile(optimizer='rmsprop',\n",
    "              loss='binary_crossentropy',\n",
    "              metrics=['accuracy'])\n",
    "model.fit(x_train, y_train, epochs=4, batch_size=512)\n",
    "results = model.evaluate(x_test, y_test)\n",
    "print(results)"
   ]
  },
  {
   "cell_type": "code",
   "execution_count": 14,
   "metadata": {},
   "outputs": [
    {
     "data": {
      "text/plain": [
       "array([[0.13506284],\n",
       "       [0.9997068 ],\n",
       "       [0.26524374],\n",
       "       ...,\n",
       "       [0.06942479],\n",
       "       [0.04198667],\n",
       "       [0.46928856]], dtype=float32)"
      ]
     },
     "execution_count": 14,
     "metadata": {},
     "output_type": "execute_result"
    }
   ],
   "source": [
    "# Using a trained network to generate predictions on new data\n",
    "model.predict(x_test)"
   ]
  },
  {
   "cell_type": "code",
   "execution_count": null,
   "metadata": {},
   "outputs": [],
   "source": []
  }
 ],
 "metadata": {
  "kernelspec": {
   "display_name": "Python 3",
   "language": "python",
   "name": "python3"
  },
  "language_info": {
   "codemirror_mode": {
    "name": "ipython",
    "version": 3
   },
   "file_extension": ".py",
   "mimetype": "text/x-python",
   "name": "python",
   "nbconvert_exporter": "python",
   "pygments_lexer": "ipython3",
   "version": "3.6.8"
  }
 },
 "nbformat": 4,
 "nbformat_minor": 2
}
